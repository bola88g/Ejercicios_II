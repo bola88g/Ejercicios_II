{
 "cells": [
  {
   "cell_type": "code",
   "execution_count": 1,
   "metadata": {},
   "outputs": [
    {
     "name": "stdout",
     "output_type": "stream",
     "text": [
      "Los números en la lista original:  [34, 1, 0, -23, -45, 86] Los números positivos en la lista:  [34, 1, 86]\n"
     ]
    }
   ],
   "source": [
    "nums = [34, 1, 0, -23, -45,86]\n",
    "def dimePositivos(lista):\n",
    "    res = list(filter(lambda x: x >0, lista))\n",
    "    return res\n",
    "\n",
    "print(\"Los números en la lista original: \", nums,\"Los números positivos en la lista: \", dimePositivos(nums))"
   ]
  },
  {
   "cell_type": "code",
   "execution_count": null,
   "metadata": {},
   "outputs": [],
   "source": []
  }
 ],
 "metadata": {
  "kernelspec": {
   "display_name": "Python 3",
   "language": "python",
   "name": "python3"
  },
  "language_info": {
   "codemirror_mode": {
    "name": "ipython",
    "version": 3
   },
   "file_extension": ".py",
   "mimetype": "text/x-python",
   "name": "python",
   "nbconvert_exporter": "python",
   "pygments_lexer": "ipython3",
   "version": "3.6.9"
  }
 },
 "nbformat": 4,
 "nbformat_minor": 2
}
