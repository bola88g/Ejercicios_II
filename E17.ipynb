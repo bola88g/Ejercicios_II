{
 "cells": [
  {
   "cell_type": "code",
   "execution_count": 22,
   "metadata": {},
   "outputs": [
    {
     "name": "stdout",
     "output_type": "stream",
     "text": [
      "['80108', '10101', '90106', '60109', '88188', '18181', '98186', '68189', '81118', '11111', '91116', '61119', '89168', '19161', '99166', '69169', '86198', '16191', '96196', '66199', '80008', '10001', '90006', '60009', '88088', '18081', '98086', '68089', '81018', '11011', '91016', '61019', '89068', '19061', '99066', '69069', '86098', '16091', '96096', '66099', '80808', '10801', '90806', '60809', '88888', '18881', '98886', '68889', '81818', '11811', '91816', '61819', '89868', '19861', '99866', '69869', '86898', '16891', '96896', '66899']\n"
     ]
    }
   ],
   "source": [
    "def strobogrammatic_num(n): \n",
    "\n",
    "    result = numdef(n, n) \n",
    "    return result \n",
    "\n",
    "\n",
    "def numdef(n, length): \n",
    "\n",
    "    if n == 0: return [\"\"] \n",
    "    if n == 1: return [\"1\", \"0\", \"8\"] \n",
    "\n",
    "    middles = numdef(n - 2, length) \n",
    "    result = [] \n",
    "\n",
    "    for middle in middles: \n",
    "        if n != length:          \n",
    "            result.append(\"0\" + middle + \"0\") \n",
    "\n",
    "        result.append(\"8\" + middle + \"8\") \n",
    "        result.append(\"1\" + middle + \"1\") \n",
    "        result.append(\"9\" + middle + \"6\") \n",
    "        result.append(\"6\" + middle + \"9\") \n",
    "    return result \n",
    "\n",
    "print(strobogrammatic_num(5))\n"
   ]
  },
  {
   "cell_type": "code",
   "execution_count": null,
   "metadata": {},
   "outputs": [],
   "source": []
  }
 ],
 "metadata": {
  "kernelspec": {
   "display_name": "Python 3",
   "language": "python",
   "name": "python3"
  },
  "language_info": {
   "codemirror_mode": {
    "name": "ipython",
    "version": 3
   },
   "file_extension": ".py",
   "mimetype": "text/x-python",
   "name": "python",
   "nbconvert_exporter": "python",
   "pygments_lexer": "ipython3",
   "version": "3.6.9"
  }
 },
 "nbformat": 4,
 "nbformat_minor": 2
}
