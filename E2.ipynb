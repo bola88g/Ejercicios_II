{
 "cells": [
  {
   "cell_type": "code",
   "execution_count": 20,
   "metadata": {},
   "outputs": [],
   "source": [
    "def permuta(lstn):\n",
    "    rs = []\n",
    "    if (len(lstn) == 2) :\n",
    "        rs = [[lstn[0],lstn[1]]]+[[lstn[1],lstn[0]]]\n",
    "    else:\n",
    "        for x in lstn:\n",
    "            reduc = [y for y in lstn if y != x]\n",
    "            prmu = permuta(reduc)\n",
    "            rs = rs + [[x]+t for t in prmu]\n",
    "    return rs\n"
   ]
  },
  {
   "cell_type": "code",
   "execution_count": 21,
   "metadata": {},
   "outputs": [
    {
     "data": {
      "text/plain": [
       "[['A', 'E', 'I'],\n",
       " ['A', 'I', 'E'],\n",
       " ['E', 'A', 'I'],\n",
       " ['E', 'I', 'A'],\n",
       " ['I', 'A', 'E'],\n",
       " ['I', 'E', 'A']]"
      ]
     },
     "execution_count": 21,
     "metadata": {},
     "output_type": "execute_result"
    }
   ],
   "source": [
    "lstn=['A', 'E','I']\n",
    "permuta(lstn)"
   ]
  },
  {
   "cell_type": "code",
   "execution_count": null,
   "metadata": {},
   "outputs": [],
   "source": []
  }
 ],
 "metadata": {
  "kernelspec": {
   "display_name": "Python 3",
   "language": "python",
   "name": "python3"
  },
  "language_info": {
   "codemirror_mode": {
    "name": "ipython",
    "version": 3
   },
   "file_extension": ".py",
   "mimetype": "text/x-python",
   "name": "python",
   "nbconvert_exporter": "python",
   "pygments_lexer": "ipython3",
   "version": "3.6.9"
  }
 },
 "nbformat": 4,
 "nbformat_minor": 2
}
