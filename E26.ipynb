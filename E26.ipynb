{
 "cells": [
  {
   "cell_type": "markdown",
   "metadata": {},
   "source": [
    "##### Escriba un programa de Python para calcular la suma de la diferencia absoluta de todos los pares distintos en una\n",
    "##### matriz dada (orden no decreciente)."
   ]
  },
  {
   "cell_type": "code",
   "execution_count": 9,
   "metadata": {},
   "outputs": [
    {
     "name": "stdout",
     "output_type": "stream",
     "text": [
      "35\n"
     ]
    }
   ],
   "source": [
    "numeros = [1, 2, 3, 4, 5, 6]\n",
    "\n",
    "# Ordena de forma no decreciente la lista numeros\n",
    "numeros.sort()\n",
    "\n",
    "# Función que forma todas las posibles parejas\n",
    "def ParOrd(listin):\n",
    "      rs = []\n",
    "# si la lista tiene 2 elementos, añade a rs dicha pareja\n",
    "      if len(listin) == 2:\n",
    "         rs.append([listin[0], listin[1]])\n",
    "      else:\n",
    "# x toma el valor del 1er elemento\n",
    "         x = listin[0]\n",
    "# Redu, lista de todo lo que no es x\n",
    "         redu = [w for w in listin if w!=x]\n",
    "# para cada elemento de redu, se añade a rs el par [x,y]\n",
    "         for y in redu:\n",
    "             rs.append([x, y])\n",
    "# se añade a rs lo que resulta de aplicar la función a redu de forma recursiva\n",
    "         rs = rs + ParOrd(redu)\n",
    "      return rs\n",
    "\n",
    "# se forma la lista de todas las parejas posibles\n",
    "y = ParOrd(numeros)\n",
    "suma = 0\n",
    "\n",
    "for w in y:\n",
    "    suma = suma + abs(w[0]-w[1])\n",
    "print(suma)"
   ]
  },
  {
   "cell_type": "code",
   "execution_count": null,
   "metadata": {},
   "outputs": [],
   "source": []
  },
  {
   "cell_type": "code",
   "execution_count": null,
   "metadata": {},
   "outputs": [],
   "source": []
  }
 ],
 "metadata": {
  "kernelspec": {
   "display_name": "Python 3",
   "language": "python",
   "name": "python3"
  },
  "language_info": {
   "codemirror_mode": {
    "name": "ipython",
    "version": 3
   },
   "file_extension": ".py",
   "mimetype": "text/x-python",
   "name": "python",
   "nbconvert_exporter": "python",
   "pygments_lexer": "ipython3",
   "version": "3.7.3"
  }
 },
 "nbformat": 4,
 "nbformat_minor": 4
}
