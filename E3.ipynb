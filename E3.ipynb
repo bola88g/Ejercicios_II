{
 "cells": [
  {
   "cell_type": "code",
   "execution_count": 1,
   "metadata": {},
   "outputs": [],
   "source": [
    "def removetercero(listin):\n",
    "    pos = 2\n",
    "    ndc = 0\n",
    "    limite = (len(listin))\n",
    "    while limite>0:\n",
    "        ndc = (pos+ndc)%limite\n",
    "        if ndc == 1 or ndc == 0:\n",
    "            ndc = (len(listin)) -1\n",
    "        print('indice: ',ndc,'límite:',limite,'retiro: ',listin.pop(ndc), 'resulta: ',listin)\n",
    "        limite -= 1"
   ]
  },
  {
   "cell_type": "code",
   "execution_count": 3,
   "metadata": {},
   "outputs": [
    {
     "name": "stdout",
     "output_type": "stream",
     "text": [
      "indice:  2 límite: 18 retiro:  3 resulta:  [1, 2, 4, 5, 6, 7, 8, 9, 10, 11, 12, 13, 14, 15, 16, 17, 18]\n",
      "indice:  4 límite: 17 retiro:  6 resulta:  [1, 2, 4, 5, 7, 8, 9, 10, 11, 12, 13, 14, 15, 16, 17, 18]\n",
      "indice:  6 límite: 16 retiro:  9 resulta:  [1, 2, 4, 5, 7, 8, 10, 11, 12, 13, 14, 15, 16, 17, 18]\n",
      "indice:  8 límite: 15 retiro:  12 resulta:  [1, 2, 4, 5, 7, 8, 10, 11, 13, 14, 15, 16, 17, 18]\n",
      "indice:  10 límite: 14 retiro:  15 resulta:  [1, 2, 4, 5, 7, 8, 10, 11, 13, 14, 16, 17, 18]\n",
      "indice:  12 límite: 13 retiro:  18 resulta:  [1, 2, 4, 5, 7, 8, 10, 11, 13, 14, 16, 17]\n",
      "indice:  2 límite: 12 retiro:  4 resulta:  [1, 2, 5, 7, 8, 10, 11, 13, 14, 16, 17]\n",
      "indice:  4 límite: 11 retiro:  8 resulta:  [1, 2, 5, 7, 10, 11, 13, 14, 16, 17]\n",
      "indice:  6 límite: 10 retiro:  13 resulta:  [1, 2, 5, 7, 10, 11, 14, 16, 17]\n",
      "indice:  8 límite: 9 retiro:  17 resulta:  [1, 2, 5, 7, 10, 11, 14, 16]\n",
      "indice:  2 límite: 8 retiro:  5 resulta:  [1, 2, 7, 10, 11, 14, 16]\n",
      "indice:  4 límite: 7 retiro:  11 resulta:  [1, 2, 7, 10, 14, 16]\n",
      "indice:  5 límite: 6 retiro:  16 resulta:  [1, 2, 7, 10, 14]\n",
      "indice:  2 límite: 5 retiro:  7 resulta:  [1, 2, 10, 14]\n",
      "indice:  3 límite: 4 retiro:  14 resulta:  [1, 2, 10]\n",
      "indice:  2 límite: 3 retiro:  10 resulta:  [1, 2]\n",
      "indice:  1 límite: 2 retiro:  2 resulta:  [1]\n",
      "indice:  0 límite: 1 retiro:  1 resulta:  []\n"
     ]
    }
   ],
   "source": [
    "listin=[1, 2, 3, 4, 5, 6, 7, 8, 9, 10 , 11, 12, 13, 14, 15, 16, 17, 18]\n",
    "removetercero(listin)"
   ]
  },
  {
   "cell_type": "code",
   "execution_count": null,
   "metadata": {},
   "outputs": [],
   "source": []
  }
 ],
 "metadata": {
  "kernelspec": {
   "display_name": "Python 3",
   "language": "python",
   "name": "python3"
  },
  "language_info": {
   "codemirror_mode": {
    "name": "ipython",
    "version": 3
   },
   "file_extension": ".py",
   "mimetype": "text/x-python",
   "name": "python",
   "nbconvert_exporter": "python",
   "pygments_lexer": "ipython3",
   "version": "3.6.9"
  }
 },
 "nbformat": 4,
 "nbformat_minor": 2
}
