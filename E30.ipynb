{
 "cells": [
  {
   "cell_type": "markdown",
   "metadata": {},
   "source": [
    "###### Escriba un programa de Python para invertir los dígitos de un número dado y sumarlo al original.\n",
    "###### Si la suma no es un palíndromo, repita este procedimiento. \n",
    "###### Nota: Un palíndromo es una palabra, número u otra secuencia de caracteres que se lee igual hacia atrás que hacia ###### adelante, como: \"madam\" or \"racecar\""
   ]
  },
  {
   "cell_type": "code",
   "execution_count": 30,
   "metadata": {},
   "outputs": [
    {
     "name": "stdout",
     "output_type": "stream",
     "text": [
      "5555\n",
      "12322321\n"
     ]
    }
   ],
   "source": [
    "# Definimos la función invert_digits\n",
    "def invert_digits(num):\n",
    "    i = 0\n",
    "# Creamos el cliclo recursivo 'while True'\n",
    "    while True:\n",
    "        n = str(num)\n",
    "# Si se encuentra el palíndromo se concluye el ciclo        \n",
    "        if n == n[::-1]:\n",
    "            break\n",
    "# En caso de no ser un palíndromo, voltea el argumento y lo suma al original       \n",
    "        else:\n",
    "            m = int(n[::-1])\n",
    "            num += m\n",
    "            i += 1\n",
    "    return num\n",
    "\n",
    "print(invert_digits(1234))\n",
    "print(invert_digits(68965))"
   ]
  },
  {
   "cell_type": "code",
   "execution_count": null,
   "metadata": {},
   "outputs": [],
   "source": []
  },
  {
   "cell_type": "code",
   "execution_count": null,
   "metadata": {},
   "outputs": [],
   "source": []
  }
 ],
 "metadata": {
  "kernelspec": {
   "display_name": "Python 3",
   "language": "python",
   "name": "python3"
  },
  "language_info": {
   "codemirror_mode": {
    "name": "ipython",
    "version": 3
   },
   "file_extension": ".py",
   "mimetype": "text/x-python",
   "name": "python",
   "nbconvert_exporter": "python",
   "pygments_lexer": "ipython3",
   "version": "3.7.3"
  }
 },
 "nbformat": 4,
 "nbformat_minor": 4
}
