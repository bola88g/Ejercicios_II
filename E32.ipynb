{
 "cells": [
  {
   "cell_type": "markdown",
   "metadata": {},
   "source": [
    "##### Write a python program to find heights of the top three building in descending order from eight given buildings"
   ]
  },
  {
   "cell_type": "code",
   "execution_count": 8,
   "metadata": {},
   "outputs": [
    {
     "name": "stdout",
     "output_type": "stream",
     "text": [
      "Proporcione las alturas de ocho edificios:\n"
     ]
    },
    {
     "name": "stdin",
     "output_type": "stream",
     "text": [
      " 56\n",
      " 12\n",
      " 78\n",
      " 9\n",
      " 663\n",
      " 32\n",
      " 56\n",
      " 75\n"
     ]
    },
    {
     "name": "stdout",
     "output_type": "stream",
     "text": [
      "Altura de los tres edificios más altos:\n",
      "\n",
      "663\n",
      "78\n",
      "75\n"
     ]
    }
   ],
   "source": [
    "print(\"Proporcione las alturas de ocho edificios:\")\n",
    "# Ingresa 8 elem uno a uno separados por enter y los guarda en la lista l \n",
    "l = [int(input()) for i in range(8)]\n",
    "# Orden decreciente\n",
    "l.sort(reverse=True)\n",
    "# Muestra primeros 3 elementos de l individualmente '*l[0:3]' separados por un espacio sep='\\n'\n",
    "print(\"Altura de los tres edificios más altos:\\n\",*l[0:3], sep='\\n')"
   ]
  },
  {
   "cell_type": "code",
   "execution_count": null,
   "metadata": {},
   "outputs": [],
   "source": []
  },
  {
   "cell_type": "code",
   "execution_count": null,
   "metadata": {},
   "outputs": [],
   "source": []
  },
  {
   "cell_type": "code",
   "execution_count": null,
   "metadata": {},
   "outputs": [],
   "source": []
  }
 ],
 "metadata": {
  "kernelspec": {
   "display_name": "Python 3",
   "language": "python",
   "name": "python3"
  },
  "language_info": {
   "codemirror_mode": {
    "name": "ipython",
    "version": 3
   },
   "file_extension": ".py",
   "mimetype": "text/x-python",
   "name": "python",
   "nbconvert_exporter": "python",
   "pygments_lexer": "ipython3",
   "version": "3.7.3"
  }
 },
 "nbformat": 4,
 "nbformat_minor": 4
}
