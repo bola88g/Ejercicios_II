{
 "cells": [
  {
   "cell_type": "markdown",
   "metadata": {},
   "source": [
    "##### Escriba un programa para calcular el radio y la coordenada central (x , y) de un círculo que está construido por tres puntos dados en la superficie del plano"
   ]
  },
  {
   "cell_type": "code",
   "execution_count": 2,
   "metadata": {},
   "outputs": [],
   "source": [
    "def radioCircuncentro(x1,y1,x2,y2,x3,y3):\n",
    "\tc = (x1-x2)**2 + (y1-y2)**2\n",
    "\ta = (x2-x3)**2 + (y2-y3)**2\n",
    "\tb = (x3-x1)**2 + (y3-y1)**2\n",
    "\tcr=c**0.5\n",
    "\tar=a**0.5\n",
    "\tbr=b**0.5\n",
    "\ts=(ar+br+cr)/2\n",
    "\tr=(ar*br*cr)/(4*(s*(s-ar)*(s-br)*(s-cr))**0.5)\n",
    "\treturn r"
   ]
  },
  {
   "cell_type": "code",
   "execution_count": 3,
   "metadata": {},
   "outputs": [
    {
     "data": {
      "text/plain": [
       "2.0000000000000013"
      ]
     },
     "execution_count": 3,
     "metadata": {},
     "output_type": "execute_result"
    }
   ],
   "source": [
    "radioCircuncentro(-2,0,2,0,0,2)"
   ]
  },
  {
   "cell_type": "code",
   "execution_count": null,
   "metadata": {},
   "outputs": [],
   "source": []
  }
 ],
 "metadata": {
  "kernelspec": {
   "display_name": "Python 3",
   "language": "python",
   "name": "python3"
  },
  "language_info": {
   "codemirror_mode": {
    "name": "ipython",
    "version": 3
   },
   "file_extension": ".py",
   "mimetype": "text/x-python",
   "name": "python",
   "nbconvert_exporter": "python",
   "pygments_lexer": "ipython3",
   "version": "3.7.3"
  }
 },
 "nbformat": 4,
 "nbformat_minor": 4
}
