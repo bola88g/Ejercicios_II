{
 "cells": [
  {
   "cell_type": "code",
   "execution_count": 5,
   "metadata": {},
   "outputs": [
    {
     "data": {
      "text/plain": [
       "[(1, -1, 0), (-6, 4, 2), (2, 0, -2), (2, -2, 0)]"
      ]
     },
     "execution_count": 5,
     "metadata": {},
     "output_type": "execute_result"
    }
   ],
   "source": [
    "x = [1, -6, 4, 2, -1, 2, 0, -2, 0 ]\n",
    "\n",
    "def sumaterna(lst):\n",
    "    rs = []\n",
    "    indxs =range(len(lst))\n",
    "    for i in indxs:\n",
    "        for j in [x for x in indxs if x > i]:\n",
    "            for k in [x for x in indxs if x > j]:\n",
    "                s= lst[i]+lst[j]+lst[k]\n",
    "                if (s == 0):\n",
    "                    z = (lst[i], lst[j], lst[k])\n",
    "                    if (rs != None):\n",
    "                        if (z not in rs):\n",
    "                            rs = rs + [z]\n",
    "                    else:\n",
    "                        rs = [z]\n",
    "\n",
    "    return rs\n",
    "\n",
    "w=sumaterna(x)\n",
    "w"
   ]
  },
  {
   "cell_type": "code",
   "execution_count": null,
   "metadata": {},
   "outputs": [],
   "source": [
    " "
   ]
  }
 ],
 "metadata": {
  "kernelspec": {
   "display_name": "Python 3",
   "language": "python",
   "name": "python3"
  },
  "language_info": {
   "codemirror_mode": {
    "name": "ipython",
    "version": 3
   },
   "file_extension": ".py",
   "mimetype": "text/x-python",
   "name": "python",
   "nbconvert_exporter": "python",
   "pygments_lexer": "ipython3",
   "version": "3.6.9"
  }
 },
 "nbformat": 4,
 "nbformat_minor": 2
}
