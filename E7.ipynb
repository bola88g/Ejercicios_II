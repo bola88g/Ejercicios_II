{
 "cells": [
  {
   "cell_type": "code",
   "execution_count": 4,
   "metadata": {},
   "outputs": [
    {
     "name": "stdout",
     "output_type": "stream",
     "text": [
      "('E', 12)\n",
      "('S', 3)\n",
      "('T', 6)\n",
      "('O', 5)\n",
      "(' ', 13)\n",
      "('Ã', 1)\n",
      "('º', 1)\n",
      "('N', 6)\n",
      "('I', 2)\n",
      "('C', 3)\n",
      "('A', 5)\n",
      "('M', 1)\n",
      "('U', 3)\n",
      "('P', 1)\n",
      "('R', 3)\n",
      "('B', 1)\n",
      "('D', 3)\n",
      "('L', 1)\n",
      "('H', 1)\n",
      "('V', 1)\n",
      "('X', 1)\n",
      "('.', 1)\n"
     ]
    }
   ],
   "source": [
    "import collections\n",
    "def contarLetras(arch):\n",
    "    with open(arch, 'r') as info:\n",
    "        w = info.read().upper()\n",
    "        z=collections.Counter(w)\n",
    "        return z\n",
    "\n",
    "j=contarLetras('letras.txt')\n",
    "\n",
    "for elem in j.items():\n",
    "    print(elem) "
   ]
  },
  {
   "cell_type": "code",
   "execution_count": null,
   "metadata": {},
   "outputs": [],
   "source": []
  },
  {
   "cell_type": "code",
   "execution_count": null,
   "metadata": {},
   "outputs": [],
   "source": []
  }
 ],
 "metadata": {
  "kernelspec": {
   "display_name": "Python 3",
   "language": "python",
   "name": "python3"
  },
  "language_info": {
   "codemirror_mode": {
    "name": "ipython",
    "version": 3
   },
   "file_extension": ".py",
   "mimetype": "text/x-python",
   "name": "python",
   "nbconvert_exporter": "python",
   "pygments_lexer": "ipython3",
   "version": "3.6.9"
  }
 },
 "nbformat": 4,
 "nbformat_minor": 2
}
